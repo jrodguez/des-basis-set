{
 "cells": [
  {
   "cell_type": "code",
   "execution_count": 1,
   "metadata": {},
   "outputs": [],
   "source": [
    "import pubchempy as pcp\n",
    "import pandas as pd\n",
    "import numpy as np\n",
    "import requests\n",
    "import json"
   ]
  },
  {
   "cell_type": "markdown",
   "metadata": {},
   "source": [
    "### We have used the previous two notebooks to test out and write the functions, so here we will compile all the HBD and HBA from the webscraped data and apply the functions to get all the structurally similar chemicals. Some further screening may still be needed after this step. This may take some time (hours) to run so as long as we get this dataset completed we can manipulate it how we want afterwards."
   ]
  },
  {
   "cell_type": "code",
   "execution_count": 2,
   "metadata": {},
   "outputs": [],
   "source": [
    "#importing all of the nist datasets.\n",
    "heat_capacity = pd.read_csv('/Users/Jaime/Desktop/des-basis-set/scripts/webscrapping/heat_capacity/heat_capacity.csv')\n",
    "conductivity = pd.read_csv('/Users/Jaime/Desktop/des-basis-set/scripts/webscrapping/conductivity/conductivity.csv')\n",
    "density = pd.read_csv('/Users/Jaime/Desktop/des-basis-set/scripts/webscrapping/density/density.csv')\n",
    "ref_index = pd.read_csv('/Users/Jaime/Desktop/des-basis-set/scripts/webscrapping/refractive_index/ref_index.csv')\n",
    "speed_sound = pd.read_csv('/Users/Jaime/Desktop/des-basis-set/scripts/webscrapping/speed_sound/speed_of_sound.csv')\n",
    "surface_tension =  pd.read_csv('/Users/Jaime/Desktop/des-basis-set/scripts/webscrapping/surface_tension/surf_tension.csv')\n",
    "viscosity = pd.read_csv('/Users/Jaime/Desktop/des-basis-set/scripts/webscrapping/viscosity/viscosity.csv')\n",
    "mp = pd.read_csv('/Users/Jaime/Desktop/des-basis-set/scripts/pubchem/melting_point.csv')"
   ]
  },
  {
   "cell_type": "markdown",
   "metadata": {},
   "source": [
    "Making HBA and HBD dataframes for each dataset"
   ]
  },
  {
   "cell_type": "code",
   "execution_count": 3,
   "metadata": {},
   "outputs": [],
   "source": [
    "#HBA\n",
    "heat_capacity_HBA = pd.DataFrame()\n",
    "heat_capacity_HBA['HBA'] = heat_capacity['HBA']\n",
    "heat_capacity_HBA = heat_capacity_HBA.drop_duplicates()\n",
    "heat_capacity_HBA = heat_capacity_HBA.reset_index(drop = True)\n",
    "\n",
    "cond_HBA = pd.DataFrame()\n",
    "cond_HBA['HBA'] = conductivity['HBA']\n",
    "cond_HBA = cond_HBA.drop_duplicates()\n",
    "cond_HBA = cond_HBA.reset_index(drop = True)\n",
    "\n",
    "density_HBA = pd.DataFrame()\n",
    "density_HBA['HBA'] = density['HBA']\n",
    "density_HBA = density_HBA.drop_duplicates()\n",
    "density_HBA = density_HBA.reset_index(drop = True)\n",
    "\n",
    "ref_index_HBA = pd.DataFrame()\n",
    "ref_index_HBA['HBA'] = ref_index['HBA']\n",
    "ref_index_HBA = ref_index_HBA.drop_duplicates()\n",
    "ref_index_HBA = ref_index_HBA.reset_index(drop = True)\n",
    "\n",
    "speed_sound_HBA = pd.DataFrame()\n",
    "speed_sound_HBA['HBA'] = speed_sound['HBA']\n",
    "speed_sound_HBA = speed_sound_HBA.drop_duplicates()\n",
    "speed_sound_HBA = speed_sound_HBA.reset_index(drop = True)\n",
    "\n",
    "surface_tension_HBA = pd.DataFrame()\n",
    "surface_tension_HBA['HBA'] = surface_tension['HBA']\n",
    "surface_tension_HBA = surface_tension_HBA.drop_duplicates()\n",
    "surface_tension_HBA = surface_tension_HBA.reset_index(drop = True)\n",
    "\n",
    "viscosity_HBA = pd.DataFrame()\n",
    "viscosity_HBA['HBA'] = viscosity['HBA']\n",
    "viscosity_HBA = viscosity_HBA.drop_duplicates()\n",
    "viscosity_HBA = viscosity_HBA.reset_index(drop = True)\n",
    "\n",
    "mp_HBA = pd.DataFrame()\n",
    "mp_HBA['HBA'] = mp['HBA']\n",
    "mp_HBA = mp_HBA.drop_duplicates()\n",
    "mp_HBA = mp_HBA.reset_index(drop = True)\n"
   ]
  },
  {
   "cell_type": "code",
   "execution_count": 4,
   "metadata": {},
   "outputs": [],
   "source": [
    "#HBD\n",
    "heat_capacity_HBD = pd.DataFrame()\n",
    "heat_capacity_HBD['HBD'] = heat_capacity['HBD']\n",
    "heat_capacity_HBD = heat_capacity_HBD.drop_duplicates()\n",
    "heat_capacity_HBD = heat_capacity_HBD.reset_index(drop = True)\n",
    "\n",
    "cond_HBD = pd.DataFrame()\n",
    "cond_HBD['HBD'] = conductivity['HBD']\n",
    "cond_HBD = cond_HBD.drop_duplicates()\n",
    "cond_HBD = cond_HBD.reset_index(drop = True)\n",
    "\n",
    "density_HBD = pd.DataFrame()\n",
    "density_HBD['HBD'] = density['HBD']\n",
    "density_HBD = density_HBD.drop_duplicates()\n",
    "density_HBD = density_HBD.reset_index(drop = True)\n",
    "\n",
    "ref_index_HBD = pd.DataFrame()\n",
    "ref_index_HBD['HBD'] = ref_index['HBD']\n",
    "ref_index_HBD = ref_index_HBD.drop_duplicates()\n",
    "ref_index_HBD = ref_index_HBD.reset_index(drop = True)\n",
    "\n",
    "speed_sound_HBD = pd.DataFrame()\n",
    "speed_sound_HBD['HBD'] = speed_sound['HBD']\n",
    "speed_sound_HBD = speed_sound_HBD.drop_duplicates()\n",
    "speed_sound_HBD = speed_sound_HBD.reset_index(drop = True)\n",
    "\n",
    "surface_tension_HBD = pd.DataFrame()\n",
    "surface_tension_HBD['HBD'] = surface_tension['HBD']\n",
    "surface_tension_HBD = surface_tension_HBD.drop_duplicates()\n",
    "surface_tension_HBD = surface_tension_HBD.reset_index(drop = True)\n",
    "\n",
    "viscosity_HBD = pd.DataFrame()\n",
    "viscosity_HBD['HBD'] = viscosity['HBD']\n",
    "viscosity_HBD = viscosity_HBD.drop_duplicates()\n",
    "viscosity_HBD = viscosity_HBD.reset_index(drop = True)\n",
    "\n",
    "mp_HBD = pd.DataFrame()\n",
    "mp_HBD['HBD'] = mp['HBD']\n",
    "mp_HBD = mp_HBD.drop_duplicates()\n",
    "mp_HBD = mp_HBD.reset_index(drop = True)\n"
   ]
  },
  {
   "cell_type": "markdown",
   "metadata": {},
   "source": [
    "Compiling into one large HBA and one large HBD dataframe."
   ]
  },
  {
   "cell_type": "code",
   "execution_count": 5,
   "metadata": {},
   "outputs": [],
   "source": [
    "#empty dataframe to append to\n",
    "compiled_HBA = pd.DataFrame()\n",
    "compiled_HBA = compiled_HBA.append([heat_capacity_HBA, cond_HBA, density_HBA, ref_index_HBA,speed_sound_HBA, surface_tension_HBA, viscosity_HBA, mp_HBA])\n",
    "compiled_HBA = compiled_HBA.drop_duplicates()\n",
    "compiled_HBA = compiled_HBA.reset_index(drop = True)"
   ]
  },
  {
   "cell_type": "code",
   "execution_count": 6,
   "metadata": {},
   "outputs": [],
   "source": [
    "#empty dataframe to append to\n",
    "compiled_HBD = pd.DataFrame()\n",
    "compiled_HBD = compiled_HBD.append([heat_capacity_HBD, cond_HBD, density_HBD, ref_index_HBD,speed_sound_HBD, surface_tension_HBD, viscosity_HBD, mp_HBD])\n",
    "compiled_HBD = compiled_HBD.drop_duplicates()\n",
    "compiled_HBD = compiled_HBD.reset_index(drop = True)"
   ]
  },
  {
   "cell_type": "code",
   "execution_count": 8,
   "metadata": {},
   "outputs": [],
   "source": [
    "#importing pubchem .py files to get cid's, smiles, etc.\n",
    "from get_cid import get_cid\n",
    "from get_properties import get_properties\n",
    "from get_similar_hba import get_similar_hba\n",
    "from get_similar_hbd import get_similar_hbd"
   ]
  },
  {
   "cell_type": "markdown",
   "metadata": {},
   "source": [
    "Getting the cid's and smiles for the HBA and HBD."
   ]
  },
  {
   "cell_type": "code",
   "execution_count": 10,
   "metadata": {},
   "outputs": [],
   "source": [
    "#cid's\n",
    "compiled_HBA = get_cid(compiled_HBA, 'HBA','CID')\n",
    "compiled_HBD = get_cid(compiled_HBD, 'HBD', 'CID')"
   ]
  },
  {
   "cell_type": "code",
   "execution_count": null,
   "metadata": {},
   "outputs": [],
   "source": [
    "\n"
   ]
  }
 ],
 "metadata": {
  "kernelspec": {
   "display_name": "Python 3",
   "language": "python",
   "name": "python3"
  },
  "language_info": {
   "codemirror_mode": {
    "name": "ipython",
    "version": 3
   },
   "file_extension": ".py",
   "mimetype": "text/x-python",
   "name": "python",
   "nbconvert_exporter": "python",
   "pygments_lexer": "ipython3",
   "version": "3.7.1"
  }
 },
 "nbformat": 4,
 "nbformat_minor": 2
}
