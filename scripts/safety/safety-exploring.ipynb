{
 "cells": [
  {
   "cell_type": "code",
   "execution_count": 109,
   "metadata": {},
   "outputs": [],
   "source": [
    "import pandas as pd\n",
    "import requests\n",
    "import json\n",
    "import pubchempy as pcp"
   ]
  },
  {
   "cell_type": "markdown",
   "metadata": {},
   "source": [
    "### Using the url below, we can access the GHS classifictaion data for a compound on pubchem"
   ]
  },
  {
   "cell_type": "code",
   "execution_count": 145,
   "metadata": {},
   "outputs": [],
   "source": [
    "#testing with retrieving ghs classifications for choline chloride (cid = 6209)\n",
    "safety_url = \"https://pubchem.ncbi.nlm.nih.gov/rest/pug_view/data/compound/6209/JSON?heading=GHS+Classification\"\n",
    "\n",
    "request = requests.get(safety_url)\n",
    "request_json = request.json()"
   ]
  },
  {
   "cell_type": "markdown",
   "metadata": {},
   "source": [
    "### The data is basially a giant dictionary and there is a specific block that contains the GHS information we want. Parsing through the dictionary to get to the desired block of text, each sentance is looped through and added to a list. "
   ]
  },
  {
   "cell_type": "code",
   "execution_count": 146,
   "metadata": {},
   "outputs": [],
   "source": [
    "GHS_information_list = [] #this list will contain the block of GHS information\n",
    "for i in range(len(request_json['Record']['Section'][0]['Section'][0]['Section'][0]['Information'][2]['Value']['StringWithMarkup'])):\n",
    "    temp_list = [] #temporary list each sentance gets added to before appending to GHS list\n",
    "    temp_list.append(request_json['Record']['Section'][0]['Section'][0]['Section'][0]['Information'][2]['Value']['StringWithMarkup'][i]['String'])\n",
    "    GHS_information_list.append(temp_list)"
   ]
  },
  {
   "cell_type": "code",
   "execution_count": 147,
   "metadata": {},
   "outputs": [
    {
     "data": {
      "text/plain": [
       "[['Aggregated GHS information provided by 484 companies from  14  notifications to the ECHA C&L Inventory. Each notification may be associated with multiple companies.'],\n",
       " ['Reported as not meeting GHS hazard criteria by 194 of 484 companies. For more detailed information, please visit  ECHA C&L website'],\n",
       " ['Of the 12 notification(s) provided by 290 of 484 companies with hazard statement code(s):'],\n",
       " ['H315 (99.31%): Causes skin irritation [Warning Skin corrosion/irritation]'],\n",
       " ['H319 (99.31%): Causes serious eye irritation [Warning Serious eye damage/eye irritation]'],\n",
       " ['H335 (98.62%): May cause respiratory irritation [Warning Specific target organ toxicity, single exposure; Respiratory tract irritation]'],\n",
       " ['Information may vary between notifications depending on impurities, additives, and other factors. The percentage value in parenthesis indicates the notified classification ratio from companies that provide hazard codes. Only hazard codes with percentage values above 10% are shown.']]"
      ]
     },
     "execution_count": 147,
     "metadata": {},
     "output_type": "execute_result"
    }
   ],
   "source": [
    "GHS_information_list"
   ]
  },
  {
   "cell_type": "markdown",
   "metadata": {},
   "source": [
    "### While this is all important information, we want to specifically extract the statements that contain the GHS hazard codes."
   ]
  },
  {
   "cell_type": "code",
   "execution_count": 148,
   "metadata": {},
   "outputs": [],
   "source": [
    "hazard_description_list = [] #list that will contain the hazrad codes and their descriptions. \n",
    "for item in GHS_information_list:\n",
    "    temp_haz = [idx for idx in item if idx[0] == 'H'] #list comprehension, keeps lists that start with H, i.e. the hazard code\n",
    "    hazard_description_list.append(temp_haz)\n",
    "    #There will be empty lists so this step removes them\n",
    "    for item in hazard_description_list:\n",
    "        if len(item) == 0:\n",
    "            hazard_description_list.remove(item)\n",
    "        \n"
   ]
  },
  {
   "cell_type": "code",
   "execution_count": 149,
   "metadata": {},
   "outputs": [
    {
     "data": {
      "text/plain": [
       "[['H315 (99.31%): Causes skin irritation [Warning Skin corrosion/irritation]'],\n",
       " ['H319 (99.31%): Causes serious eye irritation [Warning Serious eye damage/eye irritation]'],\n",
       " ['H335 (98.62%): May cause respiratory irritation [Warning Specific target organ toxicity, single exposure; Respiratory tract irritation]']]"
      ]
     },
     "execution_count": 149,
     "metadata": {},
     "output_type": "execute_result"
    }
   ],
   "source": [
    "hazard_description_list"
   ]
  },
  {
   "cell_type": "markdown",
   "metadata": {},
   "source": [
    "### Now that we have the hazard code and description, we can go in and extract the hazard code to a list by splitting the string and retrieving the 1st substring, which is the hazard code. "
   ]
  },
  {
   "cell_type": "code",
   "execution_count": 150,
   "metadata": {},
   "outputs": [],
   "source": [
    "hazard_code_list = []\n",
    "for item in hazard_description_list:\n",
    "    string = item[0]\n",
    "    hazard = string.split(' ', 1)[0]\n",
    "    hazard_code_list.append(hazard)\n",
    "    "
   ]
  },
  {
   "cell_type": "code",
   "execution_count": 151,
   "metadata": {},
   "outputs": [
    {
     "data": {
      "text/plain": [
       "['H315', 'H319', 'H335']"
      ]
     },
     "execution_count": 151,
     "metadata": {},
     "output_type": "execute_result"
    }
   ],
   "source": [
    "hazard_code_list"
   ]
  },
  {
   "cell_type": "code",
   "execution_count": null,
   "metadata": {},
   "outputs": [],
   "source": []
  }
 ],
 "metadata": {
  "kernelspec": {
   "display_name": "Python 3",
   "language": "python",
   "name": "python3"
  },
  "language_info": {
   "codemirror_mode": {
    "name": "ipython",
    "version": 3
   },
   "file_extension": ".py",
   "mimetype": "text/x-python",
   "name": "python",
   "nbconvert_exporter": "python",
   "pygments_lexer": "ipython3",
   "version": "3.7.1"
  }
 },
 "nbformat": 4,
 "nbformat_minor": 2
}
