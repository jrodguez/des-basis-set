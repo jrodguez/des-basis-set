{
 "cells": [
  {
   "cell_type": "code",
   "execution_count": 1,
   "metadata": {},
   "outputs": [],
   "source": [
    "import pandas as pd\n",
    "import requests\n",
    "import json\n",
    "import pubchempy as pcp"
   ]
  },
  {
   "cell_type": "markdown",
   "metadata": {},
   "source": [
    "### Using the url below, we can access the GHS classifictaion data for a compound on pubchem"
   ]
  },
  {
   "cell_type": "code",
   "execution_count": 14,
   "metadata": {},
   "outputs": [],
   "source": [
    "#testing with retrieving ghs classifications for choline chloride (cid = 6209)\n",
    "safety_url = \"https://pubchem.ncbi.nlm.nih.gov/rest/pug_view/data/compound/6209/JSON?heading=GHS+Classification\"\n",
    "\n",
    "request = requests.get(safety_url)\n",
    "request_json = request.json()"
   ]
  },
  {
   "cell_type": "code",
   "execution_count": 15,
   "metadata": {},
   "outputs": [
    {
     "data": {
      "text/plain": [
       "{'Record': {'RecordType': 'CID',\n",
       "  'RecordNumber': 6209,\n",
       "  'RecordTitle': 'Choline chloride',\n",
       "  'Section': [{'TOCHeading': 'Safety and Hazards',\n",
       "    'Description': 'Safety and hazards information, properties, management techniques, reactivities and incompatibilities, first aid treatments, and more. For toxicity and related information, please visit Toxicity section.',\n",
       "    'Section': [{'TOCHeading': 'Hazards Identification',\n",
       "      'Description': 'Hazards Identification includes all hazards regarding the chemical; required label elements',\n",
       "      'Section': [{'TOCHeading': 'GHS Classification',\n",
       "        'Description': 'GHS (Globally Harmonized System of Classification and Labelling of Chemicals) is a United Nations system to identify hazardous chemicals and to inform users about these hazards. GHS has been adopted by many countries around the world and is now also used as the basis for international and national transport regulations for dangerous goods. The GHS hazard statements, class categories, pictograms, signal words, and the precautionary statements can be found on the PubChem GHS page.',\n",
       "        'URL': 'https://pubchem.ncbi.nlm.nih.gov/ghs/',\n",
       "        'DisplayControls': {'CreateTable': {'FromInformationIn': 'ThisSection',\n",
       "          'NumberOfColumns': 2,\n",
       "          'ColumnContents': ['Name', 'Value']},\n",
       "         'ShowAtMost': 1},\n",
       "        'Information': [{'ReferenceNumber': 14,\n",
       "          'Name': 'Pictogram(s)',\n",
       "          'Value': {'StringWithMarkup': [{'String': '          ',\n",
       "             'Markup': [{'Start': 0,\n",
       "               'Length': 1,\n",
       "               'URL': 'https://pubchem.ncbi.nlm.nih.gov/images/ghs/GHS07.svg',\n",
       "               'Type': 'Icon',\n",
       "               'Extra': 'Irritant'}]}]}},\n",
       "         {'ReferenceNumber': 14,\n",
       "          'Name': 'Signal',\n",
       "          'Value': {'StringWithMarkup': [{'String': 'Warning',\n",
       "             'Markup': [{'Start': 0,\n",
       "               'Length': 7,\n",
       "               'Type': 'Color',\n",
       "               'Extra': 'GHSWarning'}]}]}},\n",
       "         {'ReferenceNumber': 14,\n",
       "          'Name': 'GHS Hazard Statements',\n",
       "          'Value': {'StringWithMarkup': [{'String': 'Aggregated GHS information provided by 484 companies from  14  notifications to the ECHA C&L Inventory. Each notification may be associated with multiple companies.'},\n",
       "            {'String': 'Reported as not meeting GHS hazard criteria by 194 of 484 companies. For more detailed information, please visit  ECHA C&L website',\n",
       "             'Markup': [{'Start': 114,\n",
       "               'Length': 20,\n",
       "               'URL': 'https://echa.europa.eu/information-on-chemicals/cl-inventory-database/-/discli/details/37800'}]},\n",
       "            {'String': 'Of the 12 notification(s) provided by 290 of 484 companies with hazard statement code(s):'},\n",
       "            {'String': 'H315 (99.31%): Causes skin irritation [Warning Skin corrosion/irritation]',\n",
       "             'Markup': [{'Start': 39,\n",
       "               'Length': 7,\n",
       "               'Type': 'Color',\n",
       "               'Extra': 'GHSWarning'}]},\n",
       "            {'String': 'H319 (99.31%): Causes serious eye irritation [Warning Serious eye damage/eye irritation]',\n",
       "             'Markup': [{'Start': 46,\n",
       "               'Length': 7,\n",
       "               'Type': 'Color',\n",
       "               'Extra': 'GHSWarning'}]},\n",
       "            {'String': 'H335 (98.62%): May cause respiratory irritation [Warning Specific target organ toxicity, single exposure; Respiratory tract irritation]',\n",
       "             'Markup': [{'Start': 49,\n",
       "               'Length': 7,\n",
       "               'Type': 'Color',\n",
       "               'Extra': 'GHSWarning'}]},\n",
       "            {'String': 'Information may vary between notifications depending on impurities, additives, and other factors. The percentage value in parenthesis indicates the notified classification ratio from companies that provide hazard codes. Only hazard codes with percentage values above 10% are shown.'}]}},\n",
       "         {'ReferenceNumber': 14,\n",
       "          'Name': 'Precautionary Statement Codes',\n",
       "          'Value': {'StringWithMarkup': [{'String': 'P261, P264, P271, P280, P302+P352, P304+P340, P305+P351+P338, P312, P321, P332+P313, P337+P313, P362, P403+P233, P405, and P501'},\n",
       "            {'String': '(The corresponding statement to each P-code can be found at the GHS Classification page.)',\n",
       "             'Markup': [{'Start': 64,\n",
       "               'Length': 18,\n",
       "               'URL': 'https://pubchem.ncbi.nlm.nih.gov/ghs/#_prec'}]}]}}]}]}]}],\n",
       "  'Reference': [{'ReferenceNumber': 14,\n",
       "    'SourceName': 'European Chemicals Agency (ECHA)',\n",
       "    'SourceID': '37800',\n",
       "    'Name': 'Choline chloride',\n",
       "    'Description': 'The information provided here is aggregated from the \"Notified classification and labelling\" from ECHA\\'s C&L Inventory. Read more: https://echa.europa.eu/information-on-chemicals/cl-inventory-database',\n",
       "    'URL': 'https://echa.europa.eu/information-on-chemicals/cl-inventory-database/-/discli/details/37800',\n",
       "    'LicenseNote': 'Use of the information, documents and data from the ECHA website is subject to the terms and conditions of this Legal Notice, and subject to other binding limitations provided for under applicable law, the information, documents and data made available on the ECHA website may be reproduced, distributed and/or used, totally or in part, for non-commercial purposes provided that ECHA is acknowledged as the source: \"Source: European Chemicals Agency, http://echa.europa.eu/\". Such acknowledgement must be included in each copy of the material. ECHA permits and encourages organisations and individuals to create links to the ECHA website under the following cumulative conditions: Links can only be made to webpages that provide a link to the Legal Notice page.',\n",
       "    'LicenseURL': 'https://echa.europa.eu/web/guest/legal-notice',\n",
       "    'ANID': 1862120}]}}"
      ]
     },
     "execution_count": 15,
     "metadata": {},
     "output_type": "execute_result"
    }
   ],
   "source": [
    "request_json"
   ]
  },
  {
   "cell_type": "markdown",
   "metadata": {},
   "source": [
    "### The data is basially a giant dictionary and there is a specific block that contains the GHS information we want. Parsing through the dictionary to get to the desired block of text, each sentance is looped through and added to a list. "
   ]
  },
  {
   "cell_type": "code",
   "execution_count": 16,
   "metadata": {},
   "outputs": [],
   "source": [
    "GHS_information_list = [] #this list will contain the block of GHS information\n",
    "for i in range(len(request_json['Record']['Section'][0]['Section'][0]['Section'][0]['Information'][2]['Value']['StringWithMarkup'])):\n",
    "    temp_list = [] #temporary list each sentance gets added to before appending to GHS list\n",
    "    temp_list.append(request_json['Record']['Section'][0]['Section'][0]['Section'][0]['Information'][2]['Value']['StringWithMarkup'][i]['String'])\n",
    "    GHS_information_list.append(temp_list)"
   ]
  },
  {
   "cell_type": "code",
   "execution_count": 17,
   "metadata": {},
   "outputs": [
    {
     "data": {
      "text/plain": [
       "[['Aggregated GHS information provided by 484 companies from  14  notifications to the ECHA C&L Inventory. Each notification may be associated with multiple companies.'],\n",
       " ['Reported as not meeting GHS hazard criteria by 194 of 484 companies. For more detailed information, please visit  ECHA C&L website'],\n",
       " ['Of the 12 notification(s) provided by 290 of 484 companies with hazard statement code(s):'],\n",
       " ['H315 (99.31%): Causes skin irritation [Warning Skin corrosion/irritation]'],\n",
       " ['H319 (99.31%): Causes serious eye irritation [Warning Serious eye damage/eye irritation]'],\n",
       " ['H335 (98.62%): May cause respiratory irritation [Warning Specific target organ toxicity, single exposure; Respiratory tract irritation]'],\n",
       " ['Information may vary between notifications depending on impurities, additives, and other factors. The percentage value in parenthesis indicates the notified classification ratio from companies that provide hazard codes. Only hazard codes with percentage values above 10% are shown.']]"
      ]
     },
     "execution_count": 17,
     "metadata": {},
     "output_type": "execute_result"
    }
   ],
   "source": [
    "GHS_information_list"
   ]
  },
  {
   "cell_type": "markdown",
   "metadata": {},
   "source": [
    "### While this is all important information, we want to specifically extract the statements that contain the GHS hazard codes."
   ]
  },
  {
   "cell_type": "code",
   "execution_count": 6,
   "metadata": {},
   "outputs": [],
   "source": [
    "hazard_description_list = [] #list that will contain the hazrad codes and their descriptions. \n",
    "for item in GHS_information_list:\n",
    "    temp_haz = [idx for idx in item if idx[0] == 'H'] #list comprehension, keeps lists that start with H, i.e. the hazard code\n",
    "    hazard_description_list.append(temp_haz)\n",
    "    #There will be empty lists so this step removes them\n",
    "    for item in hazard_description_list:\n",
    "        if len(item) == 0:\n",
    "            hazard_description_list.remove(item)\n",
    "        \n"
   ]
  },
  {
   "cell_type": "code",
   "execution_count": 7,
   "metadata": {},
   "outputs": [
    {
     "data": {
      "text/plain": [
       "[['H315 (99.31%): Causes skin irritation [Warning Skin corrosion/irritation]'],\n",
       " ['H319 (99.31%): Causes serious eye irritation [Warning Serious eye damage/eye irritation]'],\n",
       " ['H335 (98.62%): May cause respiratory irritation [Warning Specific target organ toxicity, single exposure; Respiratory tract irritation]']]"
      ]
     },
     "execution_count": 7,
     "metadata": {},
     "output_type": "execute_result"
    }
   ],
   "source": [
    "hazard_description_list"
   ]
  },
  {
   "cell_type": "markdown",
   "metadata": {},
   "source": [
    "### Now that we have the hazard code and description, we can go in and extract the hazard code to a list by splitting the string and retrieving the 1st substring, which is the hazard code. "
   ]
  },
  {
   "cell_type": "code",
   "execution_count": 8,
   "metadata": {},
   "outputs": [],
   "source": [
    "hazard_code_list = []\n",
    "for item in hazard_description_list:\n",
    "    string = item[0]\n",
    "    hazard = string.split(' ', 1)[0]\n",
    "    hazard_code_list.append(hazard)\n",
    "    "
   ]
  },
  {
   "cell_type": "code",
   "execution_count": 9,
   "metadata": {},
   "outputs": [
    {
     "data": {
      "text/plain": [
       "['H315', 'H319', 'H335']"
      ]
     },
     "execution_count": 9,
     "metadata": {},
     "output_type": "execute_result"
    }
   ],
   "source": [
    "hazard_code_list"
   ]
  },
  {
   "cell_type": "code",
   "execution_count": null,
   "metadata": {},
   "outputs": [],
   "source": []
  }
 ],
 "metadata": {
  "kernelspec": {
   "display_name": "Python 3",
   "language": "python",
   "name": "python3"
  },
  "language_info": {
   "codemirror_mode": {
    "name": "ipython",
    "version": 3
   },
   "file_extension": ".py",
   "mimetype": "text/x-python",
   "name": "python",
   "nbconvert_exporter": "python",
   "pygments_lexer": "ipython3",
   "version": "3.7.3"
  }
 },
 "nbformat": 4,
 "nbformat_minor": 2
}
